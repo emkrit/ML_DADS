{
  "cells": [
    {
      "cell_type": "markdown",
      "metadata": {
        "id": "view-in-github",
        "colab_type": "text"
      },
      "source": [
        "<a href=\"https://colab.research.google.com/github/emkrit/ML_DADS/blob/main/Houseing_price_Krit.ipynb\" target=\"_parent\"><img src=\"https://colab.research.google.com/assets/colab-badge.svg\" alt=\"Open In Colab\"/></a>"
      ]
    },
    {
      "cell_type": "code",
      "execution_count": null,
      "metadata": {
        "id": "jvZHbvSb6iWd"
      },
      "outputs": [],
      "source": [
        "import pandas as pd\n",
        "from sklearn.model_selection import train_test_split\n",
        "from sklearn.linear_model import LinearRegression\n",
        "from sklearn.metrics import mean_squared_error\n",
        "import joblib\n",
        "\n"
      ]
    },
    {
      "cell_type": "code",
      "execution_count": null,
      "metadata": {
        "id": "SAQN_IbV6iWf"
      },
      "outputs": [],
      "source": [
        "file  = \"https://raw.githubusercontent.com/emkrit/ML_DADS/main/Housing.csv\"\n",
        "df = pd.read_csv(file)"
      ]
    },
    {
      "cell_type": "code",
      "execution_count": null,
      "metadata": {
        "id": "FGpfI3xd6iWg"
      },
      "outputs": [],
      "source": [
        "# 1Survey and clean data (ถ้ามี)\n",
        "missing_values = df.isnull().sum()\n",
        "print(missing_values)\n",
        "numerical_descriptions = df.describe()\n",
        "print(numerical_descriptions)"
      ]
    },
    {
      "cell_type": "code",
      "execution_count": null,
      "metadata": {
        "id": "LtYZOZUa6iWr"
      },
      "outputs": [],
      "source": [
        "# 2. Train and test split data เป็นสัดส่วน 80:20 โดย 80 สำหรับ Train process และ 20 สำหรับ Test process\n",
        "df_dummies = pd.get_dummies(df, drop_first=True)\n",
        "X = df_dummies.drop('price', axis=1)\n",
        "y = df_dummies['price']\n",
        "\n",
        "X_train, X_test, y_train, y_test = train_test_split(X, y, test_size=0.2, random_state=42)"
      ]
    },
    {
      "cell_type": "code",
      "execution_count": null,
      "metadata": {
        "id": "bcXnhVic6iWs"
      },
      "outputs": [],
      "source": [
        "X_train"
      ]
    },
    {
      "cell_type": "code",
      "execution_count": null,
      "metadata": {
        "id": "6HU6F0HO6iWs"
      },
      "outputs": [],
      "source": [
        "\n",
        "# Convert categorical variables to dummy variables\n",
        "df_dummies = pd.get_dummies(df, drop_first=True)\n",
        "\n",
        "# Separate features and target variable\n",
        "X = df_dummies.drop('price', axis=1)\n",
        "y = df_dummies['price']\n",
        "\n",
        "# Split the data into training and testing sets with an 80:20 ratio\n",
        "X_train, X_test, y_train, y_test = train_test_split(X, y, test_size=0.2, random_state=1001)\n",
        "\n",
        "model = LinearRegression()\n",
        "\n",
        "# Train the model\n",
        "model.fit(X_train, y_train)\n",
        "\n",
        "# Predict on the testing set\n",
        "y_pred = model.predict(X_test)\n",
        "\n",
        "# Calculate the MSE\n",
        "mse = mean_squared_error(y_test, y_pred)\n",
        "\n",
        "# Placeholder student ID\n",
        "student_id = \"Krit_6610422025\"  # Replace with actual student ID provided by the user\n",
        "\n",
        "# Save the model\n",
        "filename = f\"ml_{student_id}.sav\"\n",
        "joblib.dump(model, filename)\n",
        "\n",
        "mse, filename"
      ]
    },
    {
      "cell_type": "code",
      "execution_count": null,
      "metadata": {
        "id": "01SUNKF46iWs"
      },
      "outputs": [],
      "source": []
    }
  ],
  "metadata": {
    "kernelspec": {
      "display_name": "Python 3 (ipykernel)",
      "language": "python",
      "name": "python3"
    },
    "language_info": {
      "codemirror_mode": {
        "name": "ipython",
        "version": 3
      },
      "file_extension": ".py",
      "mimetype": "text/x-python",
      "name": "python",
      "nbconvert_exporter": "python",
      "pygments_lexer": "ipython3",
      "version": "3.11.4"
    },
    "colab": {
      "provenance": [],
      "include_colab_link": true
    }
  },
  "nbformat": 4,
  "nbformat_minor": 0
}